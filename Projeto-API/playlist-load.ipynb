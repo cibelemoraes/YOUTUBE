{
 "cells": [
  {
   "cell_type": "code",
   "execution_count": 1,
   "id": "3916e491",
   "metadata": {},
   "outputs": [],
   "source": [
    "from google.cloud import bigquery\n",
    "from google.oauth2 import service_account\n",
    "import pandas as pd"
   ]
  },
  {
   "cell_type": "code",
   "execution_count": 13,
   "id": "2249b2df",
   "metadata": {},
   "outputs": [],
   "source": [
    "# Caminho para o CSV\n",
    "csv_path = (r'C:\\Users\\cibel\\OneDrive\\Documentos\\YOUTUBE\\Data\\playlist_data_tratado.csv')"
   ]
  },
  {
   "cell_type": "code",
   "execution_count": 14,
   "id": "a4f45236",
   "metadata": {},
   "outputs": [],
   "source": [
    "# Caminho para a chave da conta de serviço\n",
    "service_account_path = 'steam-bonbon-466001-m7-446d81eac6c4.json'"
   ]
  },
  {
   "cell_type": "code",
   "execution_count": 15,
   "id": "fee08ab6",
   "metadata": {},
   "outputs": [],
   "source": [
    "# Nome do projeto e dataset no BigQuery\n",
    "project_id = 'steam-bonbon-466001-m7no'\n",
    "dataset_id = 'Youtubedata'\n",
    "table_id = 'playlist_table'  # Pode ser qualquer nome de tabela"
   ]
  },
  {
   "cell_type": "code",
   "execution_count": 16,
   "id": "7c5372a4",
   "metadata": {},
   "outputs": [],
   "source": [
    "# Carrega o CSV com pandas\n",
    "df = pd.read_csv(csv_path)"
   ]
  },
  {
   "cell_type": "code",
   "execution_count": 17,
   "id": "b911d744",
   "metadata": {},
   "outputs": [],
   "source": [
    "# Autentica com a conta de serviço\n",
    "credentials = service_account.Credentials.from_service_account_file(service_account_path)\n",
    "client = bigquery.Client(credentials=credentials, project=project_id)"
   ]
  },
  {
   "cell_type": "code",
   "execution_count": 18,
   "id": "300abd42",
   "metadata": {},
   "outputs": [],
   "source": [
    "# Referência da tabela no BigQuery\n",
    "table_ref = f'{project_id}.{dataset_id}.{table_id}'"
   ]
  },
  {
   "cell_type": "code",
   "execution_count": 20,
   "id": "e2ed585c",
   "metadata": {},
   "outputs": [],
   "source": [
    "# Esquema opcional (pode deixar o BigQuery inferir automaticamente)\n",
    "job_config = bigquery.LoadJobConfig(\n",
    "    autodetect=True,\n",
    "    write_disposition=bigquery.WriteDisposition.WRITE_TRUNCATE\n",
    ")"
   ]
  },
  {
   "cell_type": "code",
   "execution_count": 23,
   "id": "3ea3c630",
   "metadata": {},
   "outputs": [
    {
     "name": "stderr",
     "output_type": "stream",
     "text": [
      "c:\\Users\\cibel\\OneDrive\\Documentos\\YOUTUBE\\.venv\\Lib\\site-packages\\google\\cloud\\bigquery\\_pandas_helpers.py:489: FutureWarning: Loading pandas DataFrame into BigQuery will require pandas-gbq package version 0.26.1 or greater in the future. Tried to import pandas-gbq and got: No module named 'pandas_gbq'\n",
      "  warnings.warn(\n"
     ]
    },
    {
     "ename": "ServiceUnavailable",
     "evalue": "503 POST https://bigquery.googleapis.com/upload/bigquery/v2/projects/steam-bonbon-466001-m7no/jobs?uploadType=multipart: Service Unavailable",
     "output_type": "error",
     "traceback": [
      "\u001b[31m---------------------------------------------------------------------------\u001b[39m",
      "\u001b[31mInvalidResponse\u001b[39m                           Traceback (most recent call last)",
      "\u001b[36mFile \u001b[39m\u001b[32mc:\\Users\\cibel\\OneDrive\\Documentos\\YOUTUBE\\.venv\\Lib\\site-packages\\google\\cloud\\bigquery\\client.py:2629\u001b[39m, in \u001b[36mClient.load_table_from_file\u001b[39m\u001b[34m(self, file_obj, destination, rewind, size, num_retries, job_id, job_id_prefix, location, project, job_config, timeout)\u001b[39m\n\u001b[32m   2628\u001b[39m     \u001b[38;5;28;01melse\u001b[39;00m:\n\u001b[32m-> \u001b[39m\u001b[32m2629\u001b[39m         response = \u001b[38;5;28;43mself\u001b[39;49m\u001b[43m.\u001b[49m\u001b[43m_do_multipart_upload\u001b[49m\u001b[43m(\u001b[49m\n\u001b[32m   2630\u001b[39m \u001b[43m            \u001b[49m\u001b[43mfile_obj\u001b[49m\u001b[43m,\u001b[49m\u001b[43m \u001b[49m\u001b[43mjob_resource\u001b[49m\u001b[43m,\u001b[49m\u001b[43m \u001b[49m\u001b[43msize\u001b[49m\u001b[43m,\u001b[49m\u001b[43m \u001b[49m\u001b[43mnum_retries\u001b[49m\u001b[43m,\u001b[49m\u001b[43m \u001b[49m\u001b[43mtimeout\u001b[49m\u001b[43m,\u001b[49m\u001b[43m \u001b[49m\u001b[43mproject\u001b[49m\u001b[43m=\u001b[49m\u001b[43mproject\u001b[49m\n\u001b[32m   2631\u001b[39m \u001b[43m        \u001b[49m\u001b[43m)\u001b[49m\n\u001b[32m   2632\u001b[39m \u001b[38;5;28;01mexcept\u001b[39;00m resumable_media.InvalidResponse \u001b[38;5;28;01mas\u001b[39;00m exc:\n",
      "\u001b[36mFile \u001b[39m\u001b[32mc:\\Users\\cibel\\OneDrive\\Documentos\\YOUTUBE\\.venv\\Lib\\site-packages\\google\\cloud\\bigquery\\client.py:3193\u001b[39m, in \u001b[36mClient._do_multipart_upload\u001b[39m\u001b[34m(self, stream, metadata, size, num_retries, timeout, project)\u001b[39m\n\u001b[32m   3189\u001b[39m     upload._retry_strategy = resumable_media.RetryStrategy(\n\u001b[32m   3190\u001b[39m         max_retries=num_retries\n\u001b[32m   3191\u001b[39m     )\n\u001b[32m-> \u001b[39m\u001b[32m3193\u001b[39m response = \u001b[43mupload\u001b[49m\u001b[43m.\u001b[49m\u001b[43mtransmit\u001b[49m\u001b[43m(\u001b[49m\n\u001b[32m   3194\u001b[39m \u001b[43m    \u001b[49m\u001b[38;5;28;43mself\u001b[39;49m\u001b[43m.\u001b[49m\u001b[43m_http\u001b[49m\u001b[43m,\u001b[49m\u001b[43m \u001b[49m\u001b[43mdata\u001b[49m\u001b[43m,\u001b[49m\u001b[43m \u001b[49m\u001b[43mmetadata\u001b[49m\u001b[43m,\u001b[49m\u001b[43m \u001b[49m\u001b[43m_GENERIC_CONTENT_TYPE\u001b[49m\u001b[43m,\u001b[49m\u001b[43m \u001b[49m\u001b[43mtimeout\u001b[49m\u001b[43m=\u001b[49m\u001b[43mtimeout\u001b[49m\n\u001b[32m   3195\u001b[39m \u001b[43m\u001b[49m\u001b[43m)\u001b[49m\n\u001b[32m   3197\u001b[39m \u001b[38;5;28;01mreturn\u001b[39;00m response\n",
      "\u001b[36mFile \u001b[39m\u001b[32mc:\\Users\\cibel\\OneDrive\\Documentos\\YOUTUBE\\.venv\\Lib\\site-packages\\google\\resumable_media\\requests\\upload.py:153\u001b[39m, in \u001b[36mMultipartUpload.transmit\u001b[39m\u001b[34m(self, transport, data, metadata, content_type, timeout)\u001b[39m\n\u001b[32m    151\u001b[39m     \u001b[38;5;28;01mreturn\u001b[39;00m result\n\u001b[32m--> \u001b[39m\u001b[32m153\u001b[39m \u001b[38;5;28;01mreturn\u001b[39;00m \u001b[43m_request_helpers\u001b[49m\u001b[43m.\u001b[49m\u001b[43mwait_and_retry\u001b[49m\u001b[43m(\u001b[49m\n\u001b[32m    154\u001b[39m \u001b[43m    \u001b[49m\u001b[43mretriable_request\u001b[49m\u001b[43m,\u001b[49m\u001b[43m \u001b[49m\u001b[38;5;28;43mself\u001b[39;49m\u001b[43m.\u001b[49m\u001b[43m_get_status_code\u001b[49m\u001b[43m,\u001b[49m\u001b[43m \u001b[49m\u001b[38;5;28;43mself\u001b[39;49m\u001b[43m.\u001b[49m\u001b[43m_retry_strategy\u001b[49m\n\u001b[32m    155\u001b[39m \u001b[43m\u001b[49m\u001b[43m)\u001b[49m\n",
      "\u001b[36mFile \u001b[39m\u001b[32mc:\\Users\\cibel\\OneDrive\\Documentos\\YOUTUBE\\.venv\\Lib\\site-packages\\google\\resumable_media\\requests\\_request_helpers.py:178\u001b[39m, in \u001b[36mwait_and_retry\u001b[39m\u001b[34m(func, get_status_code, retry_strategy)\u001b[39m\n\u001b[32m    177\u001b[39m \u001b[38;5;28;01mif\u001b[39;00m \u001b[38;5;129;01mnot\u001b[39;00m retry_strategy.retry_allowed(total_sleep, num_retries):\n\u001b[32m--> \u001b[39m\u001b[32m178\u001b[39m     \u001b[38;5;28;01mraise\u001b[39;00m error\n\u001b[32m    180\u001b[39m time.sleep(wait_time)\n",
      "\u001b[36mFile \u001b[39m\u001b[32mc:\\Users\\cibel\\OneDrive\\Documentos\\YOUTUBE\\.venv\\Lib\\site-packages\\google\\resumable_media\\requests\\_request_helpers.py:155\u001b[39m, in \u001b[36mwait_and_retry\u001b[39m\u001b[34m(func, get_status_code, retry_strategy)\u001b[39m\n\u001b[32m    154\u001b[39m \u001b[38;5;28;01mtry\u001b[39;00m:\n\u001b[32m--> \u001b[39m\u001b[32m155\u001b[39m     response = \u001b[43mfunc\u001b[49m\u001b[43m(\u001b[49m\u001b[43m)\u001b[49m\n\u001b[32m    156\u001b[39m \u001b[38;5;28;01mexcept\u001b[39;00m _CONNECTION_ERROR_CLASSES \u001b[38;5;28;01mas\u001b[39;00m e:\n",
      "\u001b[36mFile \u001b[39m\u001b[32mc:\\Users\\cibel\\OneDrive\\Documentos\\YOUTUBE\\.venv\\Lib\\site-packages\\google\\resumable_media\\requests\\upload.py:149\u001b[39m, in \u001b[36mMultipartUpload.transmit.<locals>.retriable_request\u001b[39m\u001b[34m()\u001b[39m\n\u001b[32m    145\u001b[39m result = transport.request(\n\u001b[32m    146\u001b[39m     method, url, data=payload, headers=headers, timeout=timeout\n\u001b[32m    147\u001b[39m )\n\u001b[32m--> \u001b[39m\u001b[32m149\u001b[39m \u001b[38;5;28;43mself\u001b[39;49m\u001b[43m.\u001b[49m\u001b[43m_process_response\u001b[49m\u001b[43m(\u001b[49m\u001b[43mresult\u001b[49m\u001b[43m)\u001b[49m\n\u001b[32m    151\u001b[39m \u001b[38;5;28;01mreturn\u001b[39;00m result\n",
      "\u001b[36mFile \u001b[39m\u001b[32mc:\\Users\\cibel\\OneDrive\\Documentos\\YOUTUBE\\.venv\\Lib\\site-packages\\google\\resumable_media\\_upload.py:125\u001b[39m, in \u001b[36mUploadBase._process_response\u001b[39m\u001b[34m(self, response)\u001b[39m\n\u001b[32m    124\u001b[39m \u001b[38;5;28mself\u001b[39m._finished = \u001b[38;5;28;01mTrue\u001b[39;00m\n\u001b[32m--> \u001b[39m\u001b[32m125\u001b[39m \u001b[43m_helpers\u001b[49m\u001b[43m.\u001b[49m\u001b[43mrequire_status_code\u001b[49m\u001b[43m(\u001b[49m\u001b[43mresponse\u001b[49m\u001b[43m,\u001b[49m\u001b[43m \u001b[49m\u001b[43m(\u001b[49m\u001b[43mhttp\u001b[49m\u001b[43m.\u001b[49m\u001b[43mclient\u001b[49m\u001b[43m.\u001b[49m\u001b[43mOK\u001b[49m\u001b[43m,\u001b[49m\u001b[43m)\u001b[49m\u001b[43m,\u001b[49m\u001b[43m \u001b[49m\u001b[38;5;28;43mself\u001b[39;49m\u001b[43m.\u001b[49m\u001b[43m_get_status_code\u001b[49m\u001b[43m)\u001b[49m\n",
      "\u001b[36mFile \u001b[39m\u001b[32mc:\\Users\\cibel\\OneDrive\\Documentos\\YOUTUBE\\.venv\\Lib\\site-packages\\google\\resumable_media\\_helpers.py:108\u001b[39m, in \u001b[36mrequire_status_code\u001b[39m\u001b[34m(response, status_codes, get_status_code, callback)\u001b[39m\n\u001b[32m    107\u001b[39m         callback()\n\u001b[32m--> \u001b[39m\u001b[32m108\u001b[39m     \u001b[38;5;28;01mraise\u001b[39;00m common.InvalidResponse(\n\u001b[32m    109\u001b[39m         response,\n\u001b[32m    110\u001b[39m         \u001b[33m\"\u001b[39m\u001b[33mRequest failed with status code\u001b[39m\u001b[33m\"\u001b[39m,\n\u001b[32m    111\u001b[39m         status_code,\n\u001b[32m    112\u001b[39m         \u001b[33m\"\u001b[39m\u001b[33mExpected one of\u001b[39m\u001b[33m\"\u001b[39m,\n\u001b[32m    113\u001b[39m         *status_codes\n\u001b[32m    114\u001b[39m     )\n\u001b[32m    115\u001b[39m \u001b[38;5;28;01mreturn\u001b[39;00m status_code\n",
      "\u001b[31mInvalidResponse\u001b[39m: ('Request failed with status code', 503, 'Expected one of', <HTTPStatus.OK: 200>)",
      "\nDuring handling of the above exception, another exception occurred:\n",
      "\u001b[31mServiceUnavailable\u001b[39m                        Traceback (most recent call last)",
      "\u001b[36mCell\u001b[39m\u001b[36m \u001b[39m\u001b[32mIn[23]\u001b[39m\u001b[32m, line 2\u001b[39m\n\u001b[32m      1\u001b[39m \u001b[38;5;66;03m# Envia os dados para o BigQuery\u001b[39;00m\n\u001b[32m----> \u001b[39m\u001b[32m2\u001b[39m job = \u001b[43mclient\u001b[49m\u001b[43m.\u001b[49m\u001b[43mload_table_from_dataframe\u001b[49m\u001b[43m(\u001b[49m\u001b[43mdf\u001b[49m\u001b[43m,\u001b[49m\u001b[43m \u001b[49m\u001b[43mtable_ref\u001b[49m\u001b[43m,\u001b[49m\u001b[43m \u001b[49m\u001b[43mjob_config\u001b[49m\u001b[43m=\u001b[49m\u001b[43mjob_config\u001b[49m\u001b[43m)\u001b[49m\n\u001b[32m      3\u001b[39m job.result()  \u001b[38;5;66;03m# Aguarda o job finalizar\u001b[39;00m\n",
      "\u001b[36mFile \u001b[39m\u001b[32mc:\\Users\\cibel\\OneDrive\\Documentos\\YOUTUBE\\.venv\\Lib\\site-packages\\google\\cloud\\bigquery\\client.py:2869\u001b[39m, in \u001b[36mClient.load_table_from_dataframe\u001b[39m\u001b[34m(self, dataframe, destination, num_retries, job_id, job_id_prefix, location, project, job_config, parquet_compression, timeout)\u001b[39m\n\u001b[32m   2867\u001b[39m     \u001b[38;5;28;01mwith\u001b[39;00m \u001b[38;5;28mopen\u001b[39m(tmppath, \u001b[33m\"\u001b[39m\u001b[33mrb\u001b[39m\u001b[33m\"\u001b[39m) \u001b[38;5;28;01mas\u001b[39;00m tmpfile:\n\u001b[32m   2868\u001b[39m         file_size = os.path.getsize(tmppath)\n\u001b[32m-> \u001b[39m\u001b[32m2869\u001b[39m         \u001b[38;5;28;01mreturn\u001b[39;00m \u001b[38;5;28;43mself\u001b[39;49m\u001b[43m.\u001b[49m\u001b[43mload_table_from_file\u001b[49m\u001b[43m(\u001b[49m\n\u001b[32m   2870\u001b[39m \u001b[43m            \u001b[49m\u001b[43mtmpfile\u001b[49m\u001b[43m,\u001b[49m\n\u001b[32m   2871\u001b[39m \u001b[43m            \u001b[49m\u001b[43mdestination\u001b[49m\u001b[43m,\u001b[49m\n\u001b[32m   2872\u001b[39m \u001b[43m            \u001b[49m\u001b[43mnum_retries\u001b[49m\u001b[43m=\u001b[49m\u001b[43mnum_retries\u001b[49m\u001b[43m,\u001b[49m\n\u001b[32m   2873\u001b[39m \u001b[43m            \u001b[49m\u001b[43mrewind\u001b[49m\u001b[43m=\u001b[49m\u001b[38;5;28;43;01mTrue\u001b[39;49;00m\u001b[43m,\u001b[49m\n\u001b[32m   2874\u001b[39m \u001b[43m            \u001b[49m\u001b[43msize\u001b[49m\u001b[43m=\u001b[49m\u001b[43mfile_size\u001b[49m\u001b[43m,\u001b[49m\n\u001b[32m   2875\u001b[39m \u001b[43m            \u001b[49m\u001b[43mjob_id\u001b[49m\u001b[43m=\u001b[49m\u001b[43mjob_id\u001b[49m\u001b[43m,\u001b[49m\n\u001b[32m   2876\u001b[39m \u001b[43m            \u001b[49m\u001b[43mjob_id_prefix\u001b[49m\u001b[43m=\u001b[49m\u001b[43mjob_id_prefix\u001b[49m\u001b[43m,\u001b[49m\n\u001b[32m   2877\u001b[39m \u001b[43m            \u001b[49m\u001b[43mlocation\u001b[49m\u001b[43m=\u001b[49m\u001b[43mlocation\u001b[49m\u001b[43m,\u001b[49m\n\u001b[32m   2878\u001b[39m \u001b[43m            \u001b[49m\u001b[43mproject\u001b[49m\u001b[43m=\u001b[49m\u001b[43mproject\u001b[49m\u001b[43m,\u001b[49m\n\u001b[32m   2879\u001b[39m \u001b[43m            \u001b[49m\u001b[43mjob_config\u001b[49m\u001b[43m=\u001b[49m\u001b[43mnew_job_config\u001b[49m\u001b[43m,\u001b[49m\n\u001b[32m   2880\u001b[39m \u001b[43m            \u001b[49m\u001b[43mtimeout\u001b[49m\u001b[43m=\u001b[49m\u001b[43mtimeout\u001b[49m\u001b[43m,\u001b[49m\n\u001b[32m   2881\u001b[39m \u001b[43m        \u001b[49m\u001b[43m)\u001b[49m\n\u001b[32m   2883\u001b[39m \u001b[38;5;28;01mfinally\u001b[39;00m:\n\u001b[32m   2884\u001b[39m     os.remove(tmppath)\n",
      "\u001b[36mFile \u001b[39m\u001b[32mc:\\Users\\cibel\\OneDrive\\Documentos\\YOUTUBE\\.venv\\Lib\\site-packages\\google\\cloud\\bigquery\\client.py:2633\u001b[39m, in \u001b[36mClient.load_table_from_file\u001b[39m\u001b[34m(self, file_obj, destination, rewind, size, num_retries, job_id, job_id_prefix, location, project, job_config, timeout)\u001b[39m\n\u001b[32m   2629\u001b[39m         response = \u001b[38;5;28mself\u001b[39m._do_multipart_upload(\n\u001b[32m   2630\u001b[39m             file_obj, job_resource, size, num_retries, timeout, project=project\n\u001b[32m   2631\u001b[39m         )\n\u001b[32m   2632\u001b[39m \u001b[38;5;28;01mexcept\u001b[39;00m resumable_media.InvalidResponse \u001b[38;5;28;01mas\u001b[39;00m exc:\n\u001b[32m-> \u001b[39m\u001b[32m2633\u001b[39m     \u001b[38;5;28;01mraise\u001b[39;00m exceptions.from_http_response(exc.response)\n\u001b[32m   2635\u001b[39m \u001b[38;5;28;01mreturn\u001b[39;00m typing.cast(LoadJob, \u001b[38;5;28mself\u001b[39m.job_from_resource(response.json()))\n",
      "\u001b[31mServiceUnavailable\u001b[39m: 503 POST https://bigquery.googleapis.com/upload/bigquery/v2/projects/steam-bonbon-466001-m7no/jobs?uploadType=multipart: Service Unavailable"
     ]
    }
   ],
   "source": [
    "# Envia os dados para o BigQuery\n",
    "job = client.load_table_from_dataframe(df, table_ref, job_config=job_config)\n",
    "job.result()  # Aguarda o job finalizar"
   ]
  }
 ],
 "metadata": {
  "kernelspec": {
   "display_name": ".venv",
   "language": "python",
   "name": "python3"
  },
  "language_info": {
   "codemirror_mode": {
    "name": "ipython",
    "version": 3
   },
   "file_extension": ".py",
   "mimetype": "text/x-python",
   "name": "python",
   "nbconvert_exporter": "python",
   "pygments_lexer": "ipython3",
   "version": "3.13.3"
  }
 },
 "nbformat": 4,
 "nbformat_minor": 5
}
