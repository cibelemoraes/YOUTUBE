{
 "cells": [
  {
   "cell_type": "code",
   "execution_count": 1,
   "id": "8da12580",
   "metadata": {},
   "outputs": [],
   "source": [
    "import pandas as pd"
   ]
  },
  {
   "cell_type": "code",
   "execution_count": 5,
   "id": "faeccb2b",
   "metadata": {},
   "outputs": [],
   "source": [
    "df = pd.read_csv(r'C:\\Users\\cibel\\OneDrive\\Documentos\\YOUTUBE\\Data\\playlist_data.csv')"
   ]
  },
  {
   "cell_type": "code",
   "execution_count": 6,
   "id": "441814eb",
   "metadata": {},
   "outputs": [],
   "source": [
    "# Renomeando colunas para o melhor entendimento\n",
    "df.rename(columns={\n",
    "    'n_like': 'Likes',\n",
    "    'n_comentarios': 'Comentários',\n",
    "    'n_view': 'Visualizações'\n",
    "}, inplace=True)"
   ]
  },
  {
   "cell_type": "markdown",
   "id": "c60ef075",
   "metadata": {},
   "source": [
    "Atribuição da coluna 'Taxa de Engajamento' para verificar o Engajamento obtido em cada vídeo\n"
   ]
  },
  {
   "cell_type": "code",
   "execution_count": 7,
   "id": "0e236e53",
   "metadata": {},
   "outputs": [],
   "source": [
    "# criando uma coluna para saber  taxa de engajamento (%)\n",
    "df['Taxa de Engajamento'] = ((df['Likes'] + df['Comentários']) / df['Visualizações']) * 100\n",
    "df['Taxa de Engajamento'] = df['Taxa de Engajamento'].round(2)"
   ]
  },
  {
   "cell_type": "code",
   "execution_count": 12,
   "id": "f0d31b7f",
   "metadata": {},
   "outputs": [],
   "source": [
    "#convertendo a coluna data publicação para o formato de YYYY-MM-DD.\n",
    "df['data_publicacao'] = pd.to_datetime(df['data_publicacao']).dt.date"
   ]
  },
  {
   "cell_type": "code",
   "execution_count": 17,
   "id": "287db895",
   "metadata": {},
   "outputs": [],
   "source": [
    "#limitando a descrição para os primeiros 200 caracteres\n",
    "df['descrição'] = df['descrição'].str.slice(0, 200)\n"
   ]
  },
  {
   "cell_type": "code",
   "execution_count": 18,
   "id": "5b304d23",
   "metadata": {},
   "outputs": [],
   "source": [
    "#Organizando colunas novamente\n",
    "colunas_finais = [\n",
    "    'video_id',\n",
    "    'titulo',\n",
    "    'descrição',\n",
    "    'data_publicacao',\n",
    "    'Visualizações',\n",
    "    'Likes',\n",
    "    'Comentários',\n",
    "    'Taxa de Engajamento',\n",
    "    'thumbnail_url',\n",
    "    'youtube_url'\n",
    "]\n",
    "df = df[colunas_finais]"
   ]
  },
  {
   "cell_type": "code",
   "execution_count": 16,
   "id": "dbd58017",
   "metadata": {},
   "outputs": [],
   "source": [
    "#Salvando novo CSV transformado\n",
    "df.to_csv(r'C:\\Users\\cibel\\OneDrive\\Documentos\\YOUTUBE\\Data\\playlist_data_tratado.csv', index=False, encoding='utf-8-sig')"
   ]
  }
 ],
 "metadata": {
  "kernelspec": {
   "display_name": ".venv",
   "language": "python",
   "name": "python3"
  },
  "language_info": {
   "codemirror_mode": {
    "name": "ipython",
    "version": 3
   },
   "file_extension": ".py",
   "mimetype": "text/x-python",
   "name": "python",
   "nbconvert_exporter": "python",
   "pygments_lexer": "ipython3",
   "version": "3.13.3"
  }
 },
 "nbformat": 4,
 "nbformat_minor": 5
}
